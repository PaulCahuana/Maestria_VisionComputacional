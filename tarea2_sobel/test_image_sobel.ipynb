{
 "cells": [
  {
   "cell_type": "code",
   "execution_count": 1,
   "metadata": {},
   "outputs": [],
   "source": [
    "import numpy as np\n",
    "from tensorflow.keras.models import load_model\n",
    "from tensorflow.keras.preprocessing import image\n",
    "from tensorflow.keras.applications.mobilenet_v2 import preprocess_input\n",
    "import glob\n",
    "import cv2\n",
    "\n",
    "model = load_model('vgg16-10epochs-_sobel.h5')\n",
    "#model.summary()\n",
    "with open('training/labels.txt') as f:\n",
    "    clases = f.read().splitlines()\n",
    "\n",
    "def predecirImagen(imagen):\n",
    "    img = image.load_img(imagen, target_size=(224, 224))\n",
    "    x = image.img_to_array(img)\n",
    "    x = np.expand_dims(x, axis=0)\n",
    "    x = preprocess_input(x)\n",
    "    preds = model.predict(x)\n",
    "    return preds"
   ]
  },
  {
   "cell_type": "code",
   "execution_count": 3,
   "metadata": {},
   "outputs": [
    {
     "name": "stdout",
     "output_type": "stream",
     "text": [
      "Result:  sadness\n"
     ]
    }
   ],
   "source": [
    "imagen=\"S125_001_00000012\"\n",
    "preds=predecirImagen(\"training/test/sadness/\"+imagen+\".png\")\n",
    "\n",
    "prediction=np.argmax(preds)\n",
    "print(\"Result: \",clases[int(prediction)])"
   ]
  }
 ],
 "metadata": {
  "interpreter": {
   "hash": "40c6efbe1bfe1230750b1c6b6ff43642b05be0357dd448c396fdd7cde68b7842"
  },
  "kernelspec": {
   "display_name": "Python 3.8.10 64-bit ('fa': conda)",
   "name": "python3"
  },
  "language_info": {
   "codemirror_mode": {
    "name": "ipython",
    "version": 3
   },
   "file_extension": ".py",
   "mimetype": "text/x-python",
   "name": "python",
   "nbconvert_exporter": "python",
   "pygments_lexer": "ipython3",
   "version": "3.8.10"
  }
 },
 "nbformat": 4,
 "nbformat_minor": 4
}
