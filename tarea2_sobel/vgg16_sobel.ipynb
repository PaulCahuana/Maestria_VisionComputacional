{
 "cells": [
  {
   "cell_type": "code",
   "execution_count": 1,
   "metadata": {},
   "outputs": [],
   "source": [
    "from tensorflow.keras.layers import Dense, Flatten\n",
    "from tensorflow.keras.models import Model\n",
    "from tensorflow.keras.applications.vgg16 import VGG16\n",
    "from tensorflow.keras.preprocessing.image import ImageDataGenerator\n",
    "import numpy as np\n",
    "from glob import glob\n",
    "import matplotlib.pyplot as plt\n",
    "\n",
    "# re-size all the images\n",
    "IMAGE_SIZE = [224, 224]\n",
    "train_path = 'training/train'\n",
    "valid_path = 'training/test'"
   ]
  },
  {
   "cell_type": "code",
   "execution_count": 2,
   "metadata": {},
   "outputs": [],
   "source": [
    "# add preprocessing layer to the front of VGG\n",
    "vgg = VGG16(input_shape=IMAGE_SIZE + [3], weights='imagenet', include_top=False)\n",
    "\n",
    "# don't train existing weights\n",
    "for layer in vgg.layers:\n",
    "    layer.trainable = False "
   ]
  },
  {
   "cell_type": "code",
   "execution_count": 3,
   "metadata": {},
   "outputs": [
    {
     "data": {
      "text/plain": [
       "['training/train/happy',\n",
       " 'training/train/surprise',\n",
       " 'training/train/sadness',\n",
       " 'training/train/anger',\n",
       " 'training/train/contempt',\n",
       " 'training/train/fear',\n",
       " 'training/train/disgust']"
      ]
     },
     "execution_count": 3,
     "metadata": {},
     "output_type": "execute_result"
    }
   ],
   "source": [
    "# useful for getting number of classes\n",
    "folders = glob('training/train/*')\n",
    "folders"
   ]
  },
  {
   "cell_type": "code",
   "execution_count": 4,
   "metadata": {},
   "outputs": [
    {
     "name": "stdout",
     "output_type": "stream",
     "text": [
      "Model: \"functional_1\"\n",
      "_________________________________________________________________\n",
      "Layer (type)                 Output Shape              Param #   \n",
      "=================================================================\n",
      "input_1 (InputLayer)         [(None, 48, 48, 3)]       0         \n",
      "_________________________________________________________________\n",
      "block1_conv1 (Conv2D)        (None, 48, 48, 64)        1792      \n",
      "_________________________________________________________________\n",
      "block1_conv2 (Conv2D)        (None, 48, 48, 64)        36928     \n",
      "_________________________________________________________________\n",
      "block1_pool (MaxPooling2D)   (None, 24, 24, 64)        0         \n",
      "_________________________________________________________________\n",
      "block2_conv1 (Conv2D)        (None, 24, 24, 128)       73856     \n",
      "_________________________________________________________________\n",
      "block2_conv2 (Conv2D)        (None, 24, 24, 128)       147584    \n",
      "_________________________________________________________________\n",
      "block2_pool (MaxPooling2D)   (None, 12, 12, 128)       0         \n",
      "_________________________________________________________________\n",
      "block3_conv1 (Conv2D)        (None, 12, 12, 256)       295168    \n",
      "_________________________________________________________________\n",
      "block3_conv2 (Conv2D)        (None, 12, 12, 256)       590080    \n",
      "_________________________________________________________________\n",
      "block3_conv3 (Conv2D)        (None, 12, 12, 256)       590080    \n",
      "_________________________________________________________________\n",
      "block3_pool (MaxPooling2D)   (None, 6, 6, 256)         0         \n",
      "_________________________________________________________________\n",
      "block4_conv1 (Conv2D)        (None, 6, 6, 512)         1180160   \n",
      "_________________________________________________________________\n",
      "block4_conv2 (Conv2D)        (None, 6, 6, 512)         2359808   \n",
      "_________________________________________________________________\n",
      "block4_conv3 (Conv2D)        (None, 6, 6, 512)         2359808   \n",
      "_________________________________________________________________\n",
      "block4_pool (MaxPooling2D)   (None, 3, 3, 512)         0         \n",
      "_________________________________________________________________\n",
      "block5_conv1 (Conv2D)        (None, 3, 3, 512)         2359808   \n",
      "_________________________________________________________________\n",
      "block5_conv2 (Conv2D)        (None, 3, 3, 512)         2359808   \n",
      "_________________________________________________________________\n",
      "block5_conv3 (Conv2D)        (None, 3, 3, 512)         2359808   \n",
      "_________________________________________________________________\n",
      "block5_pool (MaxPooling2D)   (None, 1, 1, 512)         0         \n",
      "_________________________________________________________________\n",
      "flatten (Flatten)            (None, 512)               0         \n",
      "_________________________________________________________________\n",
      "dense (Dense)                (None, 7)                 3591      \n",
      "=================================================================\n",
      "Total params: 14,718,279\n",
      "Trainable params: 3,591\n",
      "Non-trainable params: 14,714,688\n",
      "_________________________________________________________________\n"
     ]
    }
   ],
   "source": [
    "# our layers - you can add more if you want\n",
    "x = Flatten()(vgg.output)\n",
    "# add  output layer\n",
    "prediction = Dense(len(folders), activation='softmax')(x)\n",
    "# create a model object\n",
    "model = Model(inputs=vgg.input, outputs=prediction)\n",
    "# view the structure of the model\n",
    "model.summary()"
   ]
  },
  {
   "cell_type": "code",
   "execution_count": 5,
   "metadata": {},
   "outputs": [],
   "source": [
    "# tell the model what cost and optimization method to use\n",
    "model.compile(\n",
    "  loss='categorical_crossentropy', #binary_crossentropy\n",
    "  optimizer='adam',\n",
    "  #optimizer=tf.keras.optimizers.Adam(learning_rate=00.1),\n",
    "  metrics=['accuracy']\n",
    ")"
   ]
  },
  {
   "cell_type": "code",
   "execution_count": 6,
   "metadata": {},
   "outputs": [
    {
     "name": "stdout",
     "output_type": "stream",
     "text": [
      "Found 733 images belonging to 7 classes.\n",
      "Found 102 images belonging to 7 classes.\n"
     ]
    }
   ],
   "source": [
    "train_datagen = ImageDataGenerator(rescale = 1./255,\n",
    "                                   validation_split = 0.2,\n",
    "                                   shear_range = 0.2,\n",
    "                                   zoom_range = 0.2,\n",
    "                                   horizontal_flip = True)\n",
    "\n",
    "test_datagen = ImageDataGenerator(rescale = 1./255)\n",
    "\n",
    "\n",
    "training_set = train_datagen.flow_from_directory('training/train',\n",
    "                                                 target_size = (224, 224),\n",
    "                                                 batch_size = 32,\n",
    "                                                 class_mode = 'categorical')\n",
    "\n",
    "test_set = test_datagen.flow_from_directory('training/test',\n",
    "                                            target_size = (224, 224),\n",
    "                                            batch_size = 32,\n",
    "                                            class_mode = 'categorical')"
   ]
  },
  {
   "cell_type": "code",
   "execution_count": 7,
   "metadata": {},
   "outputs": [
    {
     "name": "stdout",
     "output_type": "stream",
     "text": [
      "Epoch 1/30\n",
      "23/23 [==============================] - 4s 192ms/step - loss: 1.9409 - accuracy: 0.2701 - val_loss: 1.7039 - val_accuracy: 0.4118\n",
      "Epoch 2/30\n",
      "23/23 [==============================] - 4s 177ms/step - loss: 1.6883 - accuracy: 0.4134 - val_loss: 1.5961 - val_accuracy: 0.5098\n",
      "Epoch 3/30\n",
      "23/23 [==============================] - 4s 168ms/step - loss: 1.5841 - accuracy: 0.4611 - val_loss: 1.5052 - val_accuracy: 0.5098\n",
      "Epoch 4/30\n",
      "23/23 [==============================] - 4s 169ms/step - loss: 1.5141 - accuracy: 0.4857 - val_loss: 1.4293 - val_accuracy: 0.5686\n",
      "Epoch 5/30\n",
      "23/23 [==============================] - 4s 170ms/step - loss: 1.4426 - accuracy: 0.5211 - val_loss: 1.3898 - val_accuracy: 0.5392\n",
      "Epoch 6/30\n",
      "23/23 [==============================] - 4s 174ms/step - loss: 1.3899 - accuracy: 0.5307 - val_loss: 1.3296 - val_accuracy: 0.5784\n",
      "Epoch 7/30\n",
      "23/23 [==============================] - 4s 176ms/step - loss: 1.3599 - accuracy: 0.5512 - val_loss: 1.2982 - val_accuracy: 0.6078\n",
      "Epoch 8/30\n",
      "23/23 [==============================] - 4s 170ms/step - loss: 1.3316 - accuracy: 0.5498 - val_loss: 1.2820 - val_accuracy: 0.5686\n",
      "Epoch 9/30\n",
      "23/23 [==============================] - 4s 175ms/step - loss: 1.2867 - accuracy: 0.5744 - val_loss: 1.2287 - val_accuracy: 0.5882\n",
      "Epoch 10/30\n",
      "23/23 [==============================] - 4s 172ms/step - loss: 1.2725 - accuracy: 0.5593 - val_loss: 1.2191 - val_accuracy: 0.6078\n",
      "Epoch 11/30\n",
      "23/23 [==============================] - 4s 170ms/step - loss: 1.2249 - accuracy: 0.5989 - val_loss: 1.2017 - val_accuracy: 0.5784\n",
      "Epoch 12/30\n",
      "23/23 [==============================] - 4s 174ms/step - loss: 1.2102 - accuracy: 0.5962 - val_loss: 1.1699 - val_accuracy: 0.6078\n",
      "Epoch 13/30\n",
      "23/23 [==============================] - 4s 171ms/step - loss: 1.1776 - accuracy: 0.6071 - val_loss: 1.1450 - val_accuracy: 0.6373\n",
      "Epoch 14/30\n",
      "23/23 [==============================] - 4s 171ms/step - loss: 1.1709 - accuracy: 0.6112 - val_loss: 1.1336 - val_accuracy: 0.6275\n",
      "Epoch 15/30\n",
      "23/23 [==============================] - 4s 170ms/step - loss: 1.1480 - accuracy: 0.6126 - val_loss: 1.1003 - val_accuracy: 0.6471\n",
      "Epoch 16/30\n",
      "23/23 [==============================] - 4s 175ms/step - loss: 1.1330 - accuracy: 0.6221 - val_loss: 1.1028 - val_accuracy: 0.6373\n",
      "Epoch 17/30\n",
      "23/23 [==============================] - 4s 172ms/step - loss: 1.1174 - accuracy: 0.6221 - val_loss: 1.0657 - val_accuracy: 0.6471\n",
      "Epoch 18/30\n",
      "23/23 [==============================] - 4s 169ms/step - loss: 1.0870 - accuracy: 0.6412 - val_loss: 1.0686 - val_accuracy: 0.6373\n",
      "Epoch 19/30\n",
      "23/23 [==============================] - 4s 173ms/step - loss: 1.0783 - accuracy: 0.6317 - val_loss: 1.0605 - val_accuracy: 0.6569\n",
      "Epoch 20/30\n",
      "23/23 [==============================] - 4s 170ms/step - loss: 1.0995 - accuracy: 0.6344 - val_loss: 1.0527 - val_accuracy: 0.6373\n",
      "Epoch 21/30\n",
      "23/23 [==============================] - 4s 173ms/step - loss: 1.0494 - accuracy: 0.6576 - val_loss: 1.0417 - val_accuracy: 0.6569\n",
      "Epoch 22/30\n",
      "23/23 [==============================] - 4s 174ms/step - loss: 1.0515 - accuracy: 0.6412 - val_loss: 1.0367 - val_accuracy: 0.6667\n",
      "Epoch 23/30\n",
      "23/23 [==============================] - 4s 170ms/step - loss: 1.0582 - accuracy: 0.6317 - val_loss: 1.0131 - val_accuracy: 0.7059\n",
      "Epoch 24/30\n",
      "23/23 [==============================] - 4s 171ms/step - loss: 1.0412 - accuracy: 0.6589 - val_loss: 1.0104 - val_accuracy: 0.6667\n",
      "Epoch 25/30\n",
      "23/23 [==============================] - 4s 172ms/step - loss: 1.0060 - accuracy: 0.6535 - val_loss: 0.9889 - val_accuracy: 0.6765\n",
      "Epoch 26/30\n",
      "23/23 [==============================] - 4s 170ms/step - loss: 1.0226 - accuracy: 0.6453 - val_loss: 0.9818 - val_accuracy: 0.6765\n",
      "Epoch 27/30\n",
      "23/23 [==============================] - 4s 172ms/step - loss: 1.0121 - accuracy: 0.6508 - val_loss: 0.9810 - val_accuracy: 0.6765\n",
      "Epoch 28/30\n",
      "23/23 [==============================] - 4s 171ms/step - loss: 1.0134 - accuracy: 0.6576 - val_loss: 0.9807 - val_accuracy: 0.6569\n",
      "Epoch 29/30\n",
      "23/23 [==============================] - 4s 171ms/step - loss: 0.9998 - accuracy: 0.6576 - val_loss: 0.9798 - val_accuracy: 0.6667\n",
      "Epoch 30/30\n",
      "23/23 [==============================] - 4s 172ms/step - loss: 0.9744 - accuracy: 0.6930 - val_loss: 0.9811 - val_accuracy: 0.6667\n"
     ]
    }
   ],
   "source": [
    "# fit the model\n",
    "r = model.fit(\n",
    "  training_set,\n",
    "  validation_data=test_set,\n",
    "  epochs=30,\n",
    "  steps_per_epoch=len(training_set),\n",
    "  validation_steps=len(test_set)\n",
    ")"
   ]
  },
  {
   "cell_type": "code",
   "execution_count": 8,
   "metadata": {},
   "outputs": [
    {
     "data": {
      "image/png": "[encoded data removed]",
      "text/plain": [
       "<Figure size 432x288 with 1 Axes>"
      ]
     },
     "metadata": {
      "needs_background": "light"
     },
     "output_type": "display_data"
    },
    {
     "data": {
      "text/plain": [
       "<Figure size 432x288 with 0 Axes>"
      ]
     },
     "metadata": {},
     "output_type": "display_data"
    }
   ],
   "source": [
    "# loss\n",
    "plt.plot(r.history['loss'], label='train loss')\n",
    "plt.plot(r.history['val_loss'], label='val loss')\n",
    "plt.legend()\n",
    "plt.show()\n",
    "plt.savefig('LossVal_loss')"
   ]
  },
  {
   "cell_type": "code",
   "execution_count": 9,
   "metadata": {},
   "outputs": [
    {
     "data": {
      "image/png": "[encoded data removed]",
      "text/plain": [
       "<Figure size 432x288 with 1 Axes>"
      ]
     },
     "metadata": {
      "needs_background": "light"
     },
     "output_type": "display_data"
    },
    {
     "data": {
      "text/plain": [
       "<Figure size 432x288 with 0 Axes>"
      ]
     },
     "metadata": {},
     "output_type": "display_data"
    }
   ],
   "source": [
    "# accuracies\n",
    "plt.plot(r.history['accuracy'], label='train acc')\n",
    "plt.plot(r.history['val_accuracy'], label='val acc')\n",
    "plt.legend()\n",
    "plt.show()\n",
    "plt.savefig('AccVal_acc')"
   ]
  },
  {
   "cell_type": "code",
   "execution_count": 11,
   "metadata": {},
   "outputs": [],
   "source": [
    "import tensorflow as tf\n",
    "\n",
    "from tensorflow.keras.models import load_model\n",
    "\n",
    "model.save('vgg16-10epochs-_sobel.h5')"
   ]
  },
  {
   "cell_type": "code",
   "execution_count": null,
   "metadata": {},
   "outputs": [],
   "source": []
  }
 ],
 "metadata": {
  "kernelspec": {
   "display_name": "Python 3",
   "language": "python",
   "name": "python3"
  },
  "language_info": {
   "codemirror_mode": {
    "name": "ipython",
    "version": 3
   },
   "file_extension": ".py",
   "mimetype": "text/x-python",
   "name": "python",
   "nbconvert_exporter": "python",
   "pygments_lexer": "ipython3",
   "version": "3.8.10"
  }
 },
 "nbformat": 4,
 "nbformat_minor": 4
}
